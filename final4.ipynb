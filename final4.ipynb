{
 "cells": [
  {
   "cell_type": "code",
   "execution_count": null,
   "id": "19cacced",
   "metadata": {},
   "outputs": [
    {
     "name": "stderr",
     "output_type": "stream",
     "text": [
      "/var/folders/51/zbd0hjg97c557zg4v527hz2m0000gn/T/ipykernel_1572/3019890902.py:11: DeprecationWarning: executable_path has been deprecated, please pass in a Service object\n",
      "  driver = webdriver.Chrome(path)\n"
     ]
    }
   ],
   "source": [
    "#Step 0. 필요한 모듈과 라이브러리를 로딩하고 검색어를 입력 받습니다\n",
    "from bs4 import BeautifulSoup     \n",
    "from selenium import webdriver\n",
    "import time\n",
    "import sys\n",
    "import requests\n",
    "from selenium.webdriver.common.keys import Keys\n",
    "from selenium.webdriver.common.by import By\n",
    "\n",
    "path = \"/Users/jun-mac/py_temp/chromedriver.exec\"\n",
    "driver = webdriver.Chrome(path)\n",
    "driver.get(\"https://www.google.com/\")\n",
    "time.sleep(3)\n",
    "query_txt = input('1.크롤링할 키워드는 무엇입니까?:')\n",
    "num = input('2.크롤링할 건수는몇개 입니까?:')\n",
    "f_dir = input('3.검색 결과를 저장할 파일경로를 지정하세요(예:/Users/jun-mac/final/pdfs/):')\n",
    "driver.find_element(By.ID,'APjFqb').click()\n",
    "element =driver.find_element(By.ID,'APjFqb')\n",
    "element.send_keys(query_txt)\n",
    "driver.find_element(By.CLASS_NAME, 'gNO89b').click()\n",
    "time.sleep(5)\n",
    "file_no = 0                                \n",
    "count = 1\n",
    "address=[]\n",
    "\n",
    "full_html = driver.page_source\n",
    "soup = BeautifulSoup(full_html, 'html.parser')\n",
    "contents = soup.find_all('div','yuRUbf')\n",
    "\n",
    "for i in contents:\n",
    "    address_temp=i.find('a')['href']\n",
    "    address.append(address_temp)\n",
    "    #print('주소:',address_temp)\n",
    "#pdf저장\n",
    "for i in range(0,len(address)) :\n",
    "        try:\n",
    "            #temp_f='f_dir'+str(fil\n",
    "            #urllib.request.urlretrieve(img_srcs[i],str(file_no)+'.jpg')#403error\n",
    "            filename=str(file_no)+'.pdf'\n",
    "            url =address[i]\n",
    "            r = requests.get(url)\n",
    "            with open(f_dir+filename,\"wb\") as outfile:\n",
    "                outfile.write(r.content)\n",
    "            #urllib.request.urlretrieve(img_srcs[i],str(temp_f)+'.jpg')\n",
    "            file_no += 1\n",
    "            if file_no==num:\n",
    "                break\n",
    "        except:\n",
    "                print('pdf가 아님')\n",
    "                continue"
   ]
  },
  {
   "cell_type": "code",
   "execution_count": null,
   "id": "80ec4173",
   "metadata": {},
   "outputs": [],
   "source": []
  }
 ],
 "metadata": {
  "kernelspec": {
   "display_name": "Python 3 (ipykernel)",
   "language": "python",
   "name": "python3"
  },
  "language_info": {
   "codemirror_mode": {
    "name": "ipython",
    "version": 3
   },
   "file_extension": ".py",
   "mimetype": "text/x-python",
   "name": "python",
   "nbconvert_exporter": "python",
   "pygments_lexer": "ipython3",
   "version": "3.10.9"
  }
 },
 "nbformat": 4,
 "nbformat_minor": 5
}
